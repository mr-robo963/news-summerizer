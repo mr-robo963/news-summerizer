{
  "cells": [
    {
      "cell_type": "markdown",
      "metadata": {
        "id": "xjAu4Y9D71Re"
      },
      "source": [
        "Searching for news based on given keyword!"
      ]
    },
    {
      "cell_type": "code",
      "execution_count": null,
      "metadata": {
        "colab": {
          "base_uri": "https://localhost:8080/"
        },
        "id": "x9B_Lbk979x2",
        "outputId": "bc7a99d4-45e2-46b8-cd8b-28c1703b04dd"
      },
      "outputs": [],
      "source": [
        "!pip install newsapi-python"
      ]
    },
    {
      "cell_type": "code",
      "execution_count": null,
      "metadata": {
        "id": "3ZFAkhLi8HDt"
      },
      "outputs": [],
      "source": [
        "from newsapi import NewsApiClient"
      ]
    },
    {
      "cell_type": "code",
      "execution_count": null,
      "metadata": {
        "id": "Fph9k99k8L8F"
      },
      "outputs": [],
      "source": [
        "newsapi = NewsApiClient(api_key='ac5de7053a6e4d6fa1a29f1071bfe1be')"
      ]
    },
    {
      "cell_type": "code",
      "execution_count": null,
      "metadata": {
        "colab": {
          "base_uri": "https://localhost:8080/"
        },
        "id": "XL6gYo8_8_TX",
        "outputId": "4108cebc-d551-4ee0-a993-c5f78bdbe9d4"
      },
      "outputs": [],
      "source": [
        "news_sources=newsapi.get_sources()\n",
        "for source in news_sources['sources']:\n",
        "  print(source['name'])"
      ]
    },
    {
      "cell_type": "code",
      "execution_count": null,
      "metadata": {
        "colab": {
          "base_uri": "https://localhost:8080/"
        },
        "id": "t3ScbvhP9eYG",
        "outputId": "a6db340e-63dc-49cc-c82d-57acc9c655a8"
      },
      "outputs": [],
      "source": [
        "news_sources"
      ]
    },
    {
      "cell_type": "code",
      "execution_count": null,
      "metadata": {
        "colab": {
          "base_uri": "https://localhost:8080/"
        },
        "id": "o8YdH-hf9kLe",
        "outputId": "a4090ab8-eaac-44cd-c8c0-59bbbca8b643"
      },
      "outputs": [],
      "source": [
        "top_headlines=newsapi.get_top_headlines(q='Ukraine Russia',language='en')   #// HERE PASS QUERY WHICH YOU WANT SEARCH FOR NEWS SUMMARY\n",
        "for article in top_headlines['articles']:\n",
        "  print('Title:',article['title'])\n",
        "  print('description:',article['description'],'\\n\\n')"
      ]
    },
    {
      "cell_type": "code",
      "execution_count": null,
      "metadata": {
        "colab": {
          "base_uri": "https://localhost:8080/"
        },
        "id": "Ur2i0d8T-yCf",
        "outputId": "43e9a630-e913-455a-e7ea-248e8faaa7f3"
      },
      "outputs": [],
      "source": [
        "url_link=[]\n",
        "for article in top_headlines['articles']:\n",
        "  url_link.append(article['url'])\n",
        "print(url_link)"
      ]
    },
    {
      "cell_type": "code",
      "execution_count": null,
      "metadata": {
        "colab": {
          "base_uri": "https://localhost:8080/"
        },
        "id": "g9V7DWmmARJH",
        "outputId": "123f53ab-829e-4637-a964-f3b96da0ec2c"
      },
      "outputs": [],
      "source": [
        "all_articles = newsapi.get_everything(\n",
        "    q='World War',\n",
        "    language='en',   \n",
        ")\n",
        "for article in all_articles['articles']:\n",
        "    print('Source : ',article['source']['name'])\n",
        "    print('Title : ',article['title'])\n",
        "    print('URL : ',article['url'])\n",
        "    print('Description : ',article['description'],'\\n\\n')"
      ]
    },
    {
      "cell_type": "code",
      "execution_count": null,
      "metadata": {
        "colab": {
          "base_uri": "https://localhost:8080/"
        },
        "id": "AXwE4kvU66QV",
        "outputId": "96da728a-74f5-4cbf-ca91-c0fa12bee3f5"
      },
      "outputs": [],
      "source": [
        "!pip install beautifulsoup4"
      ]
    },
    {
      "cell_type": "code",
      "execution_count": null,
      "metadata": {
        "colab": {
          "base_uri": "https://localhost:8080/"
        },
        "id": "tcTJymRtvncK",
        "outputId": "c99796b3-b118-4365-e0ab-2e030cd139fd"
      },
      "outputs": [],
      "source": [
        "!pip install lxml"
      ]
    },
    {
      "cell_type": "code",
      "execution_count": null,
      "metadata": {
        "colab": {
          "base_uri": "https://localhost:8080/"
        },
        "id": "eAE97I63vooJ",
        "outputId": "24c79e45-22f7-428f-c77b-8e4c40425596"
      },
      "outputs": [],
      "source": [
        "!pip install nltk"
      ]
    },
    {
      "cell_type": "code",
      "execution_count": null,
      "metadata": {
        "id": "2cXxE5zsvqXZ"
      },
      "outputs": [],
      "source": [
        "import bs4 as bs\n",
        "from urllib.request import Request,urlopen\n",
        "import re\n",
        "hdr = {'User-Agent': 'Mozilla/5.0 (X11; Linux x86_64) ' \n",
        "                        'AppleWebKit/537.11 (KHTML, like Gecko) '\n",
        "                        'Chrome/24 Safari/537.11',\n",
        "            'Accept': 'text/html,application/xhtml+xml,application/xml;q=0.9,*/*;q=0.8',\n",
        "            'Accept-Charset': 'ISO-8859-1,utf-8;q=0.7,*;q=0.3',\n",
        "            'Accept-Encoding': 'none',\n",
        "            'Accept-Language': 'en-US,en;q=0.8',\n",
        "            'Connection': 'keep-alive'}\n",
        "article_text = \"\"\n",
        "#url_link=['https://insights.blackcoffer.com/how-is-login-logout-time-tracking-for-employees-in-office-done-by-ai/']\n",
        "for url in url_link:\n",
        "  request = Request(url, headers=hdr)\n",
        "  scraped_data = urlopen(request)\n",
        "  # scraped_data = urllib.request.urlopen(url,headers=hdr)\n",
        "  article = scraped_data.read()\n",
        "  parsed_article = bs.BeautifulSoup(article,'lxml')\n",
        "  paragraphs = parsed_article.find_all('p')\n",
        "  for p in paragraphs:\n",
        "    article_text += p.text"
      ]
    },
    {
      "cell_type": "code",
      "execution_count": null,
      "metadata": {
        "colab": {
          "base_uri": "https://localhost:8080/"
        },
        "id": "xSwIxwx7vse6",
        "outputId": "54afdbcc-0aee-4730-cbc1-4e1d4ff68bb6"
      },
      "outputs": [],
      "source": [
        "print(article_text)"
      ]
    },
    {
      "cell_type": "code",
      "execution_count": null,
      "metadata": {
        "colab": {
          "base_uri": "https://localhost:8080/"
        },
        "id": "bsUnru4mvuNi",
        "outputId": "39090ddb-efe2-4a90-fe44-670b6c45d0f3"
      },
      "outputs": [],
      "source": [
        "article_text = re.sub(r'[[0-9]*]', ' ', article_text)#[10][20]\n",
        "print(article_text)\n",
        "article_text = re.sub(r'/\\s+/g', ' ', article_text)"
      ]
    },
    {
      "cell_type": "code",
      "execution_count": null,
      "metadata": {
        "colab": {
          "base_uri": "https://localhost:8080/",
          "height": 144
        },
        "id": "rkXgysLevv7K",
        "outputId": "2f54b32b-8b98-4aad-a1df-0b3e30efe4a7"
      },
      "outputs": [],
      "source": [
        "article_text"
      ]
    },
    {
      "cell_type": "code",
      "execution_count": null,
      "metadata": {
        "id": "YYm-a4kFvyLA"
      },
      "outputs": [],
      "source": [
        "# Removing special characters and digits\n",
        "formatted_article_text = re.sub('[^a-zA-Z]', ' ', article_text )\n",
        "formatted_article_text = re.sub(r'/\\s+/g', ' ', formatted_article_text)"
      ]
    },
    {
      "cell_type": "markdown",
      "metadata": {
        "id": "jFRsj-Q3vz-z"
      },
      "source": [
        "\n",
        "Tokenisng the *text*"
      ]
    },
    {
      "cell_type": "code",
      "execution_count": null,
      "metadata": {
        "colab": {
          "base_uri": "https://localhost:8080/"
        },
        "id": "R_loe1EOvys4",
        "outputId": "64acad00-bf85-44a6-a279-7d1bd27dd69f"
      },
      "outputs": [],
      "source": [
        "import nltk\n",
        "nltk.download('punkt')\n",
        "sentence_list=nltk.sent_tokenize(article_text)"
      ]
    },
    {
      "cell_type": "code",
      "execution_count": null,
      "metadata": {
        "colab": {
          "base_uri": "https://localhost:8080/"
        },
        "id": "8f_1DJrmv-fA",
        "outputId": "d0d797ab-330f-4216-cfd5-b139ff13d507"
      },
      "outputs": [],
      "source": [
        "#Check if a word is present in the stopwords.Keep the word:frequency information\n",
        "nltk.download('stopwords')\n",
        "stopwords=nltk.corpus.stopwords.words('english')\n",
        "word_frequencies={}\n",
        "for word in nltk.word_tokenize(formatted_article_text):\n",
        "  if word not in stopwords:\n",
        "    if word not in word_frequencies.keys():\n",
        "      word_frequencies[word]=1\n",
        "    else:\n",
        "      word_frequencies[word]+=1\n"
      ]
    },
    {
      "cell_type": "code",
      "execution_count": null,
      "metadata": {
        "id": "9zsB5uR1v_1x"
      },
      "outputs": [],
      "source": [
        "#To check word with maximum frequency\n",
        "maximum_frequency=max(word_frequencies.values())\n",
        "for word in word_frequencies.keys():\n",
        "  word_frequencies[word]=(word_frequencies[word]/maximum_frequency)"
      ]
    },
    {
      "cell_type": "code",
      "execution_count": null,
      "metadata": {
        "colab": {
          "base_uri": "https://localhost:8080/"
        },
        "id": "0D8IFqwEwAZB",
        "outputId": "d930dc1c-b47f-4220-b444-abef4bc0111c"
      },
      "outputs": [],
      "source": [
        "word_frequencies"
      ]
    },
    {
      "cell_type": "code",
      "execution_count": null,
      "metadata": {
        "id": "yPXqvaDNwBvo"
      },
      "outputs": [],
      "source": [
        "sentence_scores={}\n",
        "for sent in sentence_list:\n",
        "    for word in nltk.word_tokenize(sent.lower()):\n",
        "        if word in word_frequencies.keys():\n",
        "            if len(sent.split(' ')) < 30:\n",
        "                if sent not in sentence_scores.keys():\n",
        "                    sentence_scores[sent] = word_frequencies[word]\n",
        "                else:\n",
        "                    sentence_scores[sent] += word_frequencies[word]"
      ]
    },
    {
      "cell_type": "code",
      "execution_count": null,
      "metadata": {
        "colab": {
          "base_uri": "https://localhost:8080/"
        },
        "id": "wszuL7l7wDHJ",
        "outputId": "8515e8ae-05c1-4332-db9a-7c4056a55336"
      },
      "outputs": [],
      "source": [
        "sentence_scores"
      ]
    },
    {
      "cell_type": "code",
      "execution_count": null,
      "metadata": {
        "colab": {
          "base_uri": "https://localhost:8080/"
        },
        "id": "K6oIBSx6wEtB",
        "outputId": "8f73d4df-4b3a-4bc0-eff6-db568b622b2f"
      },
      "outputs": [],
      "source": [
        "import heapq\n",
        "summary_sentences=heapq.nlargest(7, sentence_scores, key=sentence_scores.get)\n",
        "summary_sentences"
      ]
    },
    {
      "cell_type": "code",
      "execution_count": null,
      "metadata": {
        "colab": {
          "base_uri": "https://localhost:8080/"
        },
        "id": "YbeQpdNMwGIc",
        "outputId": "17ac9ae3-2cc9-418f-b567-a346e72a747b"
      },
      "outputs": [],
      "source": [
        "summary=' '.join(summary_sentences)\n",
        "print(summary)"
      ]
    }
  ],
  "metadata": {
    "colab": {
      "collapsed_sections": [],
      "name": "News_Summarizer.ipynb",
      "provenance": []
    },
    "kernelspec": {
      "display_name": "Python 3.9.1 64-bit",
      "language": "python",
      "name": "python3"
    },
    "language_info": {
      "codemirror_mode": {
        "name": "ipython",
        "version": 3
      },
      "file_extension": ".py",
      "mimetype": "text/x-python",
      "name": "python",
      "nbconvert_exporter": "python",
      "pygments_lexer": "ipython3",
      "version": "3.9.1"
    },
    "vscode": {
      "interpreter": {
        "hash": "25034407fed5d681614dac11a1c0537e8cb49e3a8883c071303eea01322943d9"
      }
    }
  },
  "nbformat": 4,
  "nbformat_minor": 0
}
